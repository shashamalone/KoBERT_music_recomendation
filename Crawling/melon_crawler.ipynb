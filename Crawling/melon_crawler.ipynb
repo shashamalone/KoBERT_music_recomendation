{
 "cells": [
  {
   "cell_type": "code",
   "execution_count": 1,
   "id": "5d767caa-68e1-4eb7-a495-64d7b5a6390a",
   "metadata": {},
   "outputs": [],
   "source": [
    "import requests\n",
    "from bs4 import BeautifulSoup\n",
    "import pandas as pd\n",
    "import time"
   ]
  },
  {
   "cell_type": "code",
   "execution_count": 2,
   "id": "efae1bfe-bb20-456d-86ab-1465ae41f05d",
   "metadata": {},
   "outputs": [],
   "source": [
    "from selenium import webdriver\n",
    "from selenium.webdriver.common.keys import Keys\n",
    "from selenium.webdriver.support.ui import WebDriverWait\n",
    "from selenium.webdriver.support import expected_conditions as EC\n",
    "from selenium.common.exceptions import TimeoutException\n",
    "from selenium.common.exceptions import NoSuchElementException\n",
    "from selenium.webdriver.common.by import By\n",
    "from selenium.webdriver.support.ui import Select\n",
    "from selenium.common.exceptions import StaleElementReferenceException\n",
    "from selenium.webdriver.chrome.service import Service\n",
    "from webdriver_manager.chrome import ChromeDriverManager\n"
   ]
  },
  {
   "cell_type": "code",
   "execution_count": 3,
   "id": "b8bd8eb7-8703-4921-be9e-5b94b3ad7644",
   "metadata": {},
   "outputs": [],
   "source": [
    "# 구글 검색창에 입력한 my users agent 정보를 headers에 설정\n",
    "headers = {'User-Agent': 'Mozilla/5.0 (Windows NT 10.0; Win64; x64) AppleWebKit/537.36 (KHTML, like Gecko) Chrome/116.0.0.0 Whale/3.22.205.26 Safari/537.36'}"
   ]
  },
  {
   "cell_type": "code",
   "execution_count": 4,
   "id": "97064780-a0b7-432c-9ef4-9e71fc37a35c",
   "metadata": {
    "scrolled": true
   },
   "outputs": [],
   "source": [
    "# Chrome 드라이버 서비스를 설정\n",
    "service = Service(ChromeDriverManager().install())\n",
    "\n",
    "# Chrome 드라이버를 생성\n",
    "driver = webdriver.Chrome()\n",
    "\n",
    "# 크롤링할 페이지가 있는 주소값을 넣기\n",
    "url = \"https://www.melon.com/genre/song_list.htm?gnrCode=GN0200&steadyYn=Y\"\n",
    "\n",
    "driver.get(url)\n",
    "wait = WebDriverWait(driver, 10)\n",
    "\n",
    "# popular_button = wait.until(EC.presence_of_element_located((By.XPATH, '//*[@id=\"frm\"]/div/div/div/a[2]')))\n",
    "# popular_button.click()\n",
    "\n",
    "# # 클릭 후에 페이지가 완전히 로드될 때까지 대기\n",
    "# wait.until(EC.staleness_of(popular_button))\n",
    "\n",
    "# 테이블의 각 행을 가져와서 딕셔너리로 저장\n",
    "song_info = []\n",
    "table_rows = driver.find_elements(By.CSS_SELECTOR, '#frm > div > table > tbody > tr')\n",
    "\n",
    "for row in table_rows:\n",
    "    checkbox_value = row.find_element(By.CSS_SELECTOR, 'td input.input_check').get_attribute('value')\n",
    "    image_link = row.find_element(By.CSS_SELECTOR, 'td div.wrap a.image_typeAll img').get_attribute('src')\n",
    "\n",
    "    song_info.append({\n",
    "        'id': checkbox_value,\n",
    "        'img': image_link,\n",
    "        'text': row.text\n",
    "    })\n",
    "\n",
    "# song_info = song_info.split('\\n')\n",
    "# 추출된 노래 정보 출력\n",
    "song_list = []\n",
    "title = []\n",
    "singer = []\n",
    "txt = []\n",
    "img = []\n",
    "like = []\n",
    "for song in song_info:\n",
    "    song_l = song['text'].split('\\n')\n",
    "    title.append(song_l[1])\n",
    "    singer.append(song_l[2])\n",
    "    txt.append(song['id'])\n",
    "    img.append(song['img'])\n",
    "    like.append(song_l[5])\n",
    "    \n",
    "\n",
    "\n",
    "# 노래명, 가수명, 노래 가사, 앨범사진, 좋아요 수\n",
    "\n",
    "# 브라우저 닫기\n",
    "driver.quit()"
   ]
  },
  {
   "cell_type": "code",
   "execution_count": 5,
   "id": "9394a61e-7751-4456-8aa9-8bb77b5aa2db",
   "metadata": {},
   "outputs": [
    {
     "name": "stdout",
     "output_type": "stream",
     "text": [
      "미리 메리 크리스마스 (Feat. 천둥 Of MBLAQ) https://cdnimg.melon.co.kr/cm/album/images/010/93/562/1093562_500.jpg/melon/resize/120/quality/80/optimize\n"
     ]
    }
   ],
   "source": [
    "print(title[0], img[0])"
   ]
  },
  {
   "cell_type": "code",
   "execution_count": 6,
   "id": "9aea1f3a-0da4-4934-b40c-2a7c90a09a73",
   "metadata": {},
   "outputs": [
    {
     "data": {
      "text/plain": [
       "[]"
      ]
     },
     "execution_count": 6,
     "metadata": {},
     "output_type": "execute_result"
    }
   ],
   "source": [
    "song_list"
   ]
  },
  {
   "cell_type": "code",
   "execution_count": 40,
   "id": "9f19be7c-efe7-4bcc-9a4d-dd4717466728",
   "metadata": {},
   "outputs": [
    {
     "data": {
      "text/plain": [
       "['Y (Please Tell Me Why)',\n",
       " '우산 (Feat. 윤하)',\n",
       " '우연히 봄',\n",
       " '어땠을까 (Feat. 박정현)',\n",
       " '헤어지지 못하는 여자, 떠나가지 못하는 남자 (Feat. 정인)',\n",
       " '한여름밤의 꿀',\n",
       " 'I Love U Oh Thank U (Feat. 김태우 Of God)',\n",
       " '너에게 쓰는 편지 (Feat. 린)',\n",
       " '자니 (Feat. Dynamic Duo)',\n",
       " '죽일 놈 (Guilty)',\n",
       " '죽을 만큼 아파서 (Feat. 멜로우)',\n",
       " 'Officially Missing You',\n",
       " 'Ballerino',\n",
       " 'Boys And Girls (Feat. Babylon)',\n",
       " '그땐 그땐 그땐',\n",
       " '몸매 (MOMMAE) (Feat. Ugly Duck)',\n",
       " '뜨거운 안녕 (Feat. 성시경)',\n",
       " '붉은 노을',\n",
       " '내 생애 가장 행복한 시간 (Feat. 허각)',\n",
       " '삐딱하게 (Crooked)',\n",
       " 'Aqua Man',\n",
       " '수취인 불명',\n",
       " 'Love Love Love (Feat. Yoong Jin Of Casker)',\n",
       " '예술이야',\n",
       " '고백(Go Back) (Feat.정인)',\n",
       " '눈물 (Feat. 유진 Of 더 씨야)',\n",
       " '씨스루 (Feat. Zion.T, 개코 Of 다이나믹듀오)',\n",
       " '겁 (Feat. 태양)',\n",
       " '? (물음표) (Feat. 최자 Of 다이나믹듀오, Zion.T)',\n",
       " '몽환의 숲 (Feat. 이루마)',\n",
       " '광대 (Feat. B.M.K)',\n",
       " 'Boogie On & On',\n",
       " 'TV를 껐네... (Feat. t윤미래, 권정열 Of 10cm)',\n",
       " '눈물샤워 (Feat. 에일리)',\n",
       " 'Missing You (Feat. 김윤아 Of 자우림)',\n",
       " '사람냄새',\n",
       " '바람이나 좀 쐐 (Feat. 우혜미)',\n",
       " '착해 빠졌어 (Stupid In Love)',\n",
       " '여름 안에서',\n",
       " 'Bk Love',\n",
       " '상남자 (Boy In Luv)',\n",
       " '사이먼 도미닉',\n",
       " 'Black (Feat. 제니 of BLACKPINK)',\n",
       " '강남스타일',\n",
       " '사랑 범벅 (Feat. 챈슬러 of the channels)',\n",
       " '니가 뭔데 (Who You?)',\n",
       " '취향저격',\n",
       " 'Fly (Feat. Amin. J of Soulciety)',\n",
       " \"니가 모르게 (You Don't Know)\",\n",
       " 'BORN HATER (Feat. 빈지노, 버벌진트, B.I, MINO, BOBBY)']"
      ]
     },
     "execution_count": 40,
     "metadata": {},
     "output_type": "execute_result"
    }
   ],
   "source": [
    "title"
   ]
  },
  {
   "cell_type": "code",
   "execution_count": null,
   "id": "cb1f4263-7500-4b47-a215-9ff740a60f16",
   "metadata": {},
   "outputs": [],
   "source": []
  },
  {
   "cell_type": "code",
   "execution_count": 7,
   "id": "db7955fd-3b2a-4d09-b06e-be73323838ca",
   "metadata": {},
   "outputs": [],
   "source": [
    "song_text=[]"
   ]
  },
  {
   "cell_type": "code",
   "execution_count": 9,
   "id": "3a3ea736-5647-4a1e-835e-7a07552284ef",
   "metadata": {},
   "outputs": [],
   "source": [
    "# Chrome 드라이버 서비스를 설정\n",
    "service = Service(ChromeDriverManager().install())\n",
    "\n",
    "# Chrome 드라이버를 생성\n",
    "driver = webdriver.Chrome()\n",
    "\n",
    "for id in txt:\n",
    "    # 크롤링할 페이지가 있는 주소값을 넣기\n",
    "    url = f\"https://www.melon.com/song/detail.htm?songId={id}\"\n",
    "\n",
    "    driver.get(url)\n",
    "    wait = WebDriverWait(driver, 10)\n",
    "\n",
    "    # lyric 클래스를 갖는 요소를 찾아서 텍스트를 출력\n",
    "    try:\n",
    "        lyric_text = driver.find_element(By.XPATH, '//*[@id=\"d_video_summary\"]').text\n",
    "    except NoSuchElementException as e:\n",
    "        print(\"Element not found:\", e)\n",
    "\n",
    "# 브라우저 닫기\n",
    "driver.quit()\n",
    "    "
   ]
  },
  {
   "cell_type": "code",
   "execution_count": 10,
   "id": "ff62577e-2884-45bf-a5f6-bbd5008952c8",
   "metadata": {},
   "outputs": [
    {
     "data": {
      "text/plain": [
       "\"하얀 눈이 내려올 때면\\n온 세상이 물들을 때면\\n눈꽃이 피어나 또 빛이 나\\n눈이 부신 너처럼\\nYeah girl\\nyou should know that\\nThat my heartbeats like\\nHuh Huh Huh Huh\\nFrom the bottom of my heart\\nI thank god I found you\\n쿵쿵 가슴이 왜 이렇게 가쁘니 yeah\\n꾹꾹 참아도\\n자꾸 네 생각이 나잖아 oh\\nYou You I love you\\nand I know you love me too\\n네가 내게 불러 준\\nYou're my boo\\nYou 아직 꿈만 같아\\nAnd you 마치 선물 같아\\nFor you 네 품에 안겨도\\n늘 불안불안 해 꿈처럼 깰까 봐\\nYou 꼭 안아 줘야만 해\\nAnd you 아껴 줘야만 해\\nFor you 큰 맘 먹고 네 꺼 돼준 걸\\n하늘에게 감사해\\n하얀 눈이 내려올 때면\\n온 세상이 물들을 때면\\n눈꽃이 피어나 또 빛이 나\\n눈이 부신 너처럼\\n사랑할 수 밖에 없어서\\n사랑한 네 손 잡고서\\n첫 눈 위를 걸어 발자국을 새겨\\n이 길 끝까지 걸어 갈 거야\\nWith you\\nYou 혹시 알고 있니\\nAnd you 느낄 수가 있니\\nFor you 늘 자랑하고픈\\n네 여자친구가 되고만 싶은 걸\\nYou 전부 다 주고 싶어\\nAnd you 잘 해주고 싶어\\nFor you 다음 그 다음 해 겨울도\\n너의 곁에 있을게\\n하얀 눈이 내려올 때면\\n온 세상이 물들을 때면\\n눈꽃이 피어나 또 빛이 나\\n눈이 부신 너처럼\\n사랑할 수 밖에 없어서\\n사랑한 네 손 잡고서\\n첫 눈 위를 걸어 발자국을 새겨\\n이 길 끝까지 걸어 갈 거야\\nWith you\\n매일 매일 너 때문에 행복해\\n다른 누구 아닌 나를\\n모두 가질 너만이 My love\\n나도 믿기지 않아\\n지금 네가 내 옆에\\n이렇게 손 꼭 잡은 채 걷는다는 게\\n하얀 눈보다 더 뽀얀 네 볼에\\n키스해줄게 Baby\\n빨갛게 물들게 Baby\\n다가오는 크리스마스에는\\n기다리는 그 날만큼은\\n네 곁에 있을래\\n하루 종일 미리 미리 약속해\\n사랑할 수 밖에 없어서\\n사랑한 네 손 잡고서\\n첫 눈 위를 걸어 발자국을 새겨\\n이 길 끝까지 걸어 갈 거야\\nWith you\\nGirl you know\\nI can't even think without you\\nin my life\\nYeah Yeah I know that you know\\nThat's my baby\\n펼치기\""
      ]
     },
     "execution_count": 10,
     "metadata": {},
     "output_type": "execute_result"
    }
   ],
   "source": [
    "song_text[0]"
   ]
  },
  {
   "cell_type": "code",
   "execution_count": 18,
   "id": "98667884-0080-4486-94b1-c85c8dc81f05",
   "metadata": {},
   "outputs": [],
   "source": [
    "for ss in zip(title,singer, song_text,img,like):\n",
    "    song_list.append(ss)"
   ]
  },
  {
   "cell_type": "code",
   "execution_count": 25,
   "id": "dd0ba5a5-88ef-4299-9b14-74635c13f269",
   "metadata": {},
   "outputs": [
    {
     "name": "stdout",
     "output_type": "stream",
     "text": [
      "50 50 17 50 50\n"
     ]
    }
   ],
   "source": [
    "print(len(title),len(singer), len(song_text),len(img),len(like))"
   ]
  },
  {
   "cell_type": "code",
   "execution_count": 28,
   "id": "a7418259-9fe3-4e3c-832f-ab24c18383fe",
   "metadata": {},
   "outputs": [
    {
     "data": {
      "text/plain": [
       "[\"하얀 눈이 내려올 때면\\n온 세상이 물들을 때면\\n눈꽃이 피어나 또 빛이 나\\n눈이 부신 너처럼\\nYeah girl\\nyou should know that\\nThat my heartbeats like\\nHuh Huh Huh Huh\\nFrom the bottom of my heart\\nI thank god I found you\\n쿵쿵 가슴이 왜 이렇게 가쁘니 yeah\\n꾹꾹 참아도\\n자꾸 네 생각이 나잖아 oh\\nYou You I love you\\nand I know you love me too\\n네가 내게 불러 준\\nYou're my boo\\nYou 아직 꿈만 같아\\nAnd you 마치 선물 같아\\nFor you 네 품에 안겨도\\n늘 불안불안 해 꿈처럼 깰까 봐\\nYou 꼭 안아 줘야만 해\\nAnd you 아껴 줘야만 해\\nFor you 큰 맘 먹고 네 꺼 돼준 걸\\n하늘에게 감사해\\n하얀 눈이 내려올 때면\\n온 세상이 물들을 때면\\n눈꽃이 피어나 또 빛이 나\\n눈이 부신 너처럼\\n사랑할 수 밖에 없어서\\n사랑한 네 손 잡고서\\n첫 눈 위를 걸어 발자국을 새겨\\n이 길 끝까지 걸어 갈 거야\\nWith you\\nYou 혹시 알고 있니\\nAnd you 느낄 수가 있니\\nFor you 늘 자랑하고픈\\n네 여자친구가 되고만 싶은 걸\\nYou 전부 다 주고 싶어\\nAnd you 잘 해주고 싶어\\nFor you 다음 그 다음 해 겨울도\\n너의 곁에 있을게\\n하얀 눈이 내려올 때면\\n온 세상이 물들을 때면\\n눈꽃이 피어나 또 빛이 나\\n눈이 부신 너처럼\\n사랑할 수 밖에 없어서\\n사랑한 네 손 잡고서\\n첫 눈 위를 걸어 발자국을 새겨\\n이 길 끝까지 걸어 갈 거야\\nWith you\\n매일 매일 너 때문에 행복해\\n다른 누구 아닌 나를\\n모두 가질 너만이 My love\\n나도 믿기지 않아\\n지금 네가 내 옆에\\n이렇게 손 꼭 잡은 채 걷는다는 게\\n하얀 눈보다 더 뽀얀 네 볼에\\n키스해줄게 Baby\\n빨갛게 물들게 Baby\\n다가오는 크리스마스에는\\n기다리는 그 날만큼은\\n네 곁에 있을래\\n하루 종일 미리 미리 약속해\\n사랑할 수 밖에 없어서\\n사랑한 네 손 잡고서\\n첫 눈 위를 걸어 발자국을 새겨\\n이 길 끝까지 걸어 갈 거야\\nWith you\\nGirl you know\\nI can't even think without you\\nin my life\\nYeah Yeah I know that you know\\nThat's my baby\\n펼치기\",\n",
       " \"Yes Turtles Forth album\\nNew mind New song\\n철없을 적 내 기억속에\\n비행기 타고가요\\nYeah Let's go\\n파란 하늘위로 훨훨 날아가겠죠\\n어려서 꿈꾸었던 비행기 타고\\n기다리는 동안 아무말도 못해요\\n내 생각 말할순 없어요\\n모든 준비 다 끝났어\\n곱게 차려 입고 나선\\n바깥 풍경마저 들뜬 기분\\n때가 왔어 하늘위로\\n날으는 순간이야\\n조금은 두려워도\\n애써 내색 할 순 없어\\n이번이 처음이지만\\n전에 자주 비행했었잖아\\n친구들과 말썽장이\\n거북이 비행기로 올라타\\n준비됐나\\n수많은 사람들 속을 지나쳐\\n마지막 게이트야\\n나도 모르게 안절부절하고 있어\\n이럴 땐 침착해 좀 자연스럽게\\n파란 하늘위로 훨훨 날아가겠죠\\n어려서 꿈꾸었던 비행기 타고\\n기다리는 동안 아무말도 못해요\\n내 생각 말할순 없어요\\nYes Remember\\n비행기를 타고 가던 너\\n따라가고 싶어 울었던\\n철없을 적 내 기억속에\\n비행기 타고가요\\nYes Fly 다들 아무 일도 없는 듯\\n하늘을 나르는데 아무걱정 없는 듯\\n왠지 철닥서니 없었나 문득\\n이런 내 모습 촌스러 입 다문듯\\n쳐다보지 말아요\\n다들 처음 탈 때 이러지 않았나요\\n딴 데 봐요\\n신경 쓰지 마요\\n나 혼자 이런게 나 좋아요\\n어떤 느낌일까 정말\\n새들처럼 나는 기분\\n세상 모든 것이 점처럼\\n보 여 지겠지\\n개구쟁이 거북이\\n비행기로 드디어 출발한다\\n수많은 사람들 속을 지나쳐\\n마지막 게이트야\\n나도 모르게 안절부절하고 있어\\n이럴 땐 침착해 좀 자연스럽게\\n파란 하늘위로 훨훨 날아가겠죠\\n어려서 꿈꾸었던 비행기 타고\\n기다리는 동안 아무말도 못해요\\n내 생각 말할순 없어요\\n파란 하늘위로 훨훨 날아가겠죠\\n어려서 꿈꾸었던 비행기 타고\\n기다리는 동안 아무말도 못해요\\n내 생각 말할순 없어요 Yes Remember\\n비행기를 타고 가던 너\\n따라가고 싶어 울었던\\n철없을 적 내 기억속에\\n비행기 타고가요\\n펼치기\",\n",
       " \"어쩜 이렇게 하늘은 더 파란 건지\\n오늘따라 왜 바람은 또 완벽한지\\n그냥 모르는 척 하나 못들은 척\\n지워버린 척 딴 얘길 시작할까\\n아무 말 못하게 입맞출까\\n눈물이 차올라서 고갤 들어\\n흐르지 못하게 또 살짝 웃어\\n내게 왜 이러는지 무슨 말을 하는지\\n오늘 했던 모든 말 저 하늘 위로\\n한번도 못했던 말\\n울면서 할 줄은 나 몰랐던 말\\n나는요 오빠가 좋은걸 어떡해\\n\\n새로 바뀐 내 머리가 별로였는지\\n입고 나왔던 옷이 실수였던 건지\\n아직 모르는 척 기억 안 나는 척\\n아무 일없던 것처럼 굴어볼까\\n그냥 나가자고 얘기할까\\n눈물이 차올라서 고갤 들어\\n흐르지 못하게 또 살짝 웃어\\n내게 왜 이러는지 무슨 말을 하는지\\n오늘 했던 모든 말 저 하늘 위로\\n한번도 못했던 말\\n울면서 할 줄은 나 몰랐던 말\\n나는요 오빠가 좋은걸\\n어떡해\\n\\n이런 나를 보고\\n그런 슬픈 말은 하지 말아요\\n철없는 건지 조금 둔한 건지\\n믿을 수가 없는걸요\\n눈물은 나오는데 활짝 웃어\\n네 앞을 막고서 막 크게 웃어\\n내가 왜 이러는지 부끄럼도 없는지\\n자존심은 곱게 접어 하늘위로\\n한 번도 못했던 말\\n어쩌면 다신 못할 바로 그 말\\n나는요 오빠가 좋은걸\\n아이쿠 하나 둘\\nI'm in my dream\\nIt's too beautiful beautiful day\\nMake it a good day\\nJust don't make me cry\\n이렇게 좋은 날\\n펼치기\",\n",
       " \"거짓말\\n늦은 밤 비가 내려와 널 데려와\\n젖은 기억 끝에 뒤척여 나\\n너 없이 잘 살 수 있다고\\n다짐 해봐도 어쩔 수 없다고\\n못하는 술도 마시고\\n속타는 맘 밤새 채워봐도\\n싫어 너 없는 하루는 길어\\n빌어 제발 잊게 해달라고\\n너 없는 내겐 웃음이 보이지 않아\\n눈물조차 고이지 않아\\n더는 살고 싶지 않아\\n엿같애 열받게\\n니 생각에 돌아버릴것 같애\\n보고 싶은데 볼 수가 없데\\n모두 끝났데 I'll be right there\\nI'm so sorry but I love you\\n다 거짓말 이야 몰랐어\\n이제야 알았어 네가 필요해\\nI'm so sorry but I love you\\n날카로운 말 홧김에\\n나도 모르게 널 떠나보냈지만\\nI'm so sorry but I love you\\n다 거짓말\\nI'm so sorry but I love you\\nI'm so sorry but I love you\\n나를 떠나 천천히 잊어줄래\\n내가 아파할 수 있게\\n그댈 위해서 불러왔던\\n내 모든 걸 다 바친 노래\\n사람들은 모르겠죠\\n난 혼자 그 아무도 아무도 몰래\\n그래 내가 했던 말은 거짓말\\n홀로 남겨진 외톨이\\n그 속에 헤메는 내 꼴이\\n주머니 속에 꼬깃꼬깃\\n접어둔 이별을 향한 쪽지\\n넌 어딨나요 널 부르는 습관도\\n난 달라질래 이젠 다 웃어넘길게\\nI'm so sorry but I love you\\n다 거짓말 이야 몰랐어\\n이제야 알았어 네가 필요해\\nI'm so sorry but I love you\\n날카로운 말 홧김에\\n나도 모르게 널 떠나보냈지만\\nI'm so sorry but I love you\\n다 거짓말\\nI'm so sorry but I love you\\nI'm so sorry but I love you\\n나를 떠나 천천히 잊어줄래\\n내가 아파할 수 있게\\n\\n모든게 꿈이길\\n이것 밖에 안되는 나라서\\n아직도 너를 못 잊어\\n아니 평생을 가도 죽어서까지도\\n내가 준 상처 아물었는지 미안해\\n아무것도 해준게 없는 나라서\\nI'm so sorry but I love you\\n다 거짓말 이야 몰랐어\\n이제야 알았어 네가 필요해\\nI'm so sorry but I love you\\n날카로운 말 홧김에\\n나도 모르게 널 떠나보냈지만\\nI'm so sorry but I love you\\n다 거짓말\\nI'm so sorry but I love you\\nI'm so sorry but I love you\\n나를 떠나 천천히 잊어줄래\\n내가 아파할 수 있게\\n\\n\\n펼치기\",\n",
       " '시곌 보며 속삭이는 비밀들\\n간절한 내 맘속 이야기\\n지금 내 모습을 해쳐도 좋아\\n나를 재촉하면 할수록 좋아\\n내 이름 불러줘\\n손 틈새로 비치는 내 맘\\n들킬까 두려워\\n가슴이 막 벅차 서러워\\n조금만 꼭 참고 날 기다려줘\\n너랑 나랑은 지금 안되지\\n시계를 더 보채고 싶지만\\n네가 있던 미래에서\\n내 이름을 불러줘\\n내가 먼저 엿보고 온 시간들\\n너와 내가 함께였었지\\n나랑 놀아주는 그대가 좋아\\n내가 물어보면 그대도 좋아\\n내 이름이 뭐야\\n손 틈새로 비치는 내 맘\\n들킬까 두려워\\n가슴이 막 벅차 서러워\\n조금만 꼭 참고 날 기다려줘\\n너랑 나랑은 지금 안되지\\n시계를 더 보채고 싶지만\\n네가 있던 미래에서\\n내 이름을 불러줘\\n눈 깜박하면 어른이 될 거에요\\n날 알아보겠죠 그댄 기억하겠죠\\n그래 기묘했던 아이\\n손 틈새로 비치는 네 모습 참 좋다\\n손끝으로 돌리며\\n시곗바늘아 달려봐\\n조금만 더 빨리 날아봐\\n두 눈을 꼭 감고 마법을 건다\\n너랑 나랑은 조금 남았지\\n몇 날 몇실진 모르겠지만\\n네가 있을 미래에서\\n혹시 내가 헤맨다면\\n너를 알아볼 수 있게\\n내 이름을 불러줘\\n펼치기',\n",
       " \"I'm twenty three\\n난 수수께끼 Question\\n뭐게요 맞혀봐요\\nI'm twenty three\\n틀리지 말기 Because\\n난 몹시 예민해요\\n맞혀봐\\n한 떨기 스물셋 좀\\n아가씨 태가 나네\\n다 큰 척해도 적당히 믿어줘요\\n얄미운 스물셋\\n아직 한참 멀었다 얘\\n덜 자란 척해도\\n대충 속아줘요\\n난 그래 확실히 지금이 좋아요\\n아냐 아냐\\n사실은 때려 치고 싶어요\\n아 알겠어요\\n나는 사랑이 하고 싶어\\n아니 돈이나 많이 벌래\\n맞혀봐\\n어느 쪽이게\\n얼굴만 보면 몰라\\n속마음과 다른 표정을 짓는 일\\n아주 간단하거든\\n어느 쪽이게\\n사실은 나도 몰라\\n애초에 나는 단 한 줄의\\n거짓말도 쓴 적이 없거든\\n여우인 척 하는 곰인 척\\n하는 여우 아니면\\n아예 다른 거\\n어느 쪽이게\\n뭐든 한 쪽을 골라\\n색안경 안에 비춰지는 거\\n뭐 이제 익숙하거든\\nCheck it out\\n겁나는 게 없어요\\n엉망으로 굴어도\\n사람들은 내게 매일 친절해요\\n인사하는 저 여자\\n모퉁이를 돌고도\\n아직 웃고 있을까\\n늘 불안해요\\n난 영원히 아이로 남고 싶어요\\n아니 아니\\n물기 있는 여자가 될래요\\n아 정했어요\\n난 죽은 듯이 살래요\\n아냐 다 뒤집어 볼래\\n맞혀봐\\n어느 쪽이게\\n얼굴만 보면 몰라\\n속마음과 다른 표정을 짓는 일\\n아주 간단하거든\\n어느 쪽이게\\n사실은 나도 몰라\\n애초에 나는 단 한 줄의\\n거짓말도 쓴 적이 없거든\\n여우인 척 하는 곰인 척\\n하는 여우 아니면\\n아예 다른 거\\n어느 쪽이게\\n뭐든 한 쪽을 골라\\n색안경 안에 비춰지는 거\\n뭐 이제 익숙하거든\\n난 당신 맘에 들고 싶어요\\n아주 살짝만\\n얄밉게 해도 돼요\\n난 당신 맘에 들고 싶어요\\n자기 머리 꼭대기 위에서\\n놀아도 돼요\\n맞혀봐\\n어느 쪽이게\\n얼굴만 보면 몰라\\n속마음과 다른 표정을 짓는 일\\n아주 간단하거든\\n어느 쪽이게\\n사실은 나도 몰라\\n애초에 나는 단 한 줄의\\n거짓말도 쓴 적이 없거든\\n여우인 척 하는 곰인 척\\n하는 여우 아니면\\n아예 다른 거\\n어느 쪽이게\\n뭐든 한 쪽을 골라\\n색안경 안에 비춰지는 거\\n뭐 이제 익숙하거든\\n펼치기\",\n",
       " \"hey playboy\\nit's about time and your time's up\\nI had to do this one for my girls\\nyou know\\nsometime you gotta act like\\nyou don't care\\nthat's the only way you boys learn\\nOh oh oh oh oh oh 2ne1\\nOh oh oh oh oh oh 2ne1\\n니 옷깃에 묻은 립스틱들\\n나는 절대로 용서못해\\n매일 하루에 수십번 꺼져있는 핸드폰\\n변하지 않을 것만 같아 oh oh\\n그저 친구라는 수많은 여자친구\\n날 똑같이 생각하지 마\\nI won't let it fight\\n이제 니 맘대로 해 난 미련은 버릴래\\n한땐 정말 사랑했는데 oh oh\\n가끔씩 술에 취해 전활 걸어\\n지금은 새벽 다섯시 반\\n넌 또 다른 여자애 이름을 불러\\nno no\\nI don't care 그만할래\\n니가 어디에서 뭘 하던\\n이제 정말 상관 안할게 비켜줄래\\n이제와 울고불고 매달리지마\\ncause I don't care e e e e e\\nI don't care e e e e e\\ncause I don't care e e e e e\\nI don't care e e e e e\\nBoy I don't care\\n다른 여자들의 다리를 훔쳐보는\\n니가 너무너무 한심해\\n매일 빼놓는 커플링\\n나 몰래 한 소개팅\\n더 이상 못 참을 것 같아 oh oh\\n넌 절대 아니라는 수많은 나의 친구\\n난 너 땜에 친구들까지 다 잃었지만\\n차라리 홀가분해 너에게 난 과분해\\n내 사랑이라 믿었는데 oh oh\\n오늘도 바쁘다고 말하는 너\\n혹시나 전화해봤지만\\n역시 뒤에선 여자 웃음소리가 들려\\noh no\\nI don't care 그만할래\\n니가 어디에서 뭘 하던\\n이제 정말 상관 안할게 비켜줄래\\n이제와 울고불고 매달리지마\\ncause I don't care e e e e e\\nI don't care e e e e e\\ncause I don't care e e e e e\\nI don't care e e e e e\\nBoy I don't care\\n난 너 땜에 울며 지새던\\n밤을 기억해 boy\\n더 후회할 날 생각하면\\n맘이 시원해 boy\\n날 놓치긴 아깝고 갖기엔 시시하잖니\\n있을 때 잘하지\\n너 왜 이제와 매달리니\\n속아준 거짓말만 해도 수백번\\n오늘 이후로 난 남자 울리는 bad girl\\n이젠 눈물 한방울 없이 널 비웃어\\n사랑이란 게임 속 loser\\n무릎꿇고 잘못을 뉘우쳐\\n아님 눈 앞에서 당장 꺼져\\nI don't care 그만할래\\n니가 어디에서 뭘 하던\\n이제 정말 상관 안할게 비켜줄래\\n이제와 울고불고 매달리지마\\nyou know I don't care e e e e e e\\nI don't care e e e e e\\nI don't care e e e e e\\nI don't care e e e e e\\nBoy I don't care\\n펼치기\",\n",
       " 'Monday Better day\\n처음처럼 설레이는 그런 날\\nSunday Better day\\n종일 너만 생각하는 그런 날\\n욕심이 나\\n우리 사이 요만큼만 더 가까이\\n딱 한 발짝 그만큼 더 가까이\\n혼잣말이 속삭임이\\n너도 궁금할 순 있잖아\\n네가 좋아서 그래\\n나 차가운 척 표정 짓고 있지만\\n내 마음은 그게 아닌데 거짓말인데\\n바보 같은 네가 난 답답해\\n너무 좋아서 그래\\n나 시무룩한 얼굴하고 있지만\\n또 기다리다 고민만 하다\\n흘러가는 하루 끝에서 하는 말\\n내가 널 사랑해\\nOne day Holiday\\n혼자 있긴 너무너무 싫은 날\\nOne day Cloudy day\\n울 것처럼 하늘도 찌푸린 날\\n눈물이 와 서글픈 내 맘을 닮은\\n눈물이 와\\n꾹 참았다 쏟아지는 내 맘이\\n온 하늘에 온 세상에\\n그저 슬픈 건 아닐 거야\\n네가 좋아서 그래\\n나 차가운 척 표정 짓고 있지만\\n내 마음은 그게 아닌데 거짓말인데\\n바보 같은 네가 난 답답해\\n너무 좋아서 그래\\n나 시무룩한 얼굴하고 있지만\\n또 기다리다 고민만 하다\\n흘러가는 하루 끝에서 하는 말\\n내가 널 사랑해\\n내 입술엔 거짓말\\n내 눈 속엔 정말 하고픈 말\\n맘속에 숨어 있는 말\\n많이 좋아서 그래\\n뒤돌아서 느려진 발걸음을 봐\\n널 기다리는 맘인 거잖아\\n날 지켜본 너라면 알잖아\\n내가 몰라서 그래\\n네 마음이 들리게 내게 말해줘\\n손 내밀면 될 것 같은데\\n망설이는 이유가 나와 같다면\\n이제 다가와 줘\\n펼치기',\n",
       " \"너만을 유혹하는 춤\\n우우우 우우우우\\n심장에 매력 발산 중\\n우우우 우우우우\\n손끝만 스쳐도 막 쿵쿵쿵쿵 Oh\\n내 맘이 흔들려\\nShake it shake it for me\\nShake it shake it for me\\n나나나 나나나 나나나\\nHey\\n나나나 나나나 나나나\\n짜릿한 이 느낌\\n날 춤을 추게 해\\n지금 이 순간\\nShake it\\nBae bae baby\\nLove me love me love me now\\n흔들리는 내 맘 모르겠니\\nSo let's dance\\nJust shake it let's dance\\n좀 더 핫하게 완전 와일드하게\\nMake it louder 우우우\\n더 크게 make it louder 우우우\\n날 자꾸 흔들어 흔들어\\n놀라게 흔들어\\nShake it oh shake it\\n밤새 나와 Shake it baby\\n아주 fun하고 smart하게\\n흔들흔들어\\n온몸이 찌릿찌릿 우리 둘이\\n흔들흔들어\\n심하게 통하니 여기 불났으니\\nWhen I Move\\n움직여 자리 잡았으니\\nShake it shake it for me\\nShake it shake it for me\\n나나나 나나나 나나나\\nHey\\n나나나 나나나 나나나\\n짜릿한 이 느낌\\n날 춤을 추게 해\\n지금 이 순간\\nShake it\\nBae bae baby\\nLove me love me love me now\\n흔들리는 내 맘 모르겠니\\nSo let's dance\\nJust shake it let's dance\\n좀 더 핫하게 완전 와일드하게\\nMake it louder 우우우\\n더 크게 make it louder 우우우\\n날 자꾸 흔들어 흔들어\\n놀라게 흔들어\\nShake it oh shake it\\n밤새 나와 Shake it baby\\nShake it oh shake it\\nShake it up shake it for me\\nShake it oh shake it\\nShake it up shake it for me\\nShake it oh shake it\\nShake it up shake it for me\\nShake it oh shake it\\nShake it up shake it for me\\nShake it for me my baby\\nShake it for me my baby\\n그렇게 모두 모여 dance\\nJust shake it let's dance\\n좀 더 핫하게 완전 와일드하게\\nMake it louder 우우우\\n더 크게 make it louder 우우우\\n날 자꾸 흔들어 흔들어\\n놀라게 흔들어\\nShake it oh shake it\\n밤새 나와 Shake it baby\\n펼치기\",\n",
       " '8282 - 다비치\\n만나지 말잔 내 말\\n연락도 말란 내말\\n너 진짜 그대로 할거니\\n그게 아닌데\\n이대로 끝일까봐\\n널 영영 잃을까봐\\n점점 더 맘이 불안해져\\n너무 슬퍼져\\n정이 뭔지 밉다가도 그리워\\n너없인 못살아\\nGimme a call Baby Baby\\n지금 바로 전화줘\\nGimme a call Baby Baby\\n매일 널 기다려\\n사랑한다고 사랑한다고\\n문자라도 남겨줘\\n날 울리지마\\n- 연주중 -\\n어디서 뭘 하길래\\n얼마나 바쁘길래\\n혹시 너 일부러 안받니\\n난 줄 알면서\\n벌써 날 잊은거니\\n마음을 접은거니\\n날 두고 니가 설마 설마\\n자꾸 눈물나\\n정이 뭔지 사랑보다 무서워\\n지우기 힘들어\\nGimme a call Baby Baby\\n지금 바로 전화줘\\nGimme a call Baby Baby\\n매일 널 기다려\\n사랑한다고 사랑한다고\\n문자라도 남겨줘\\n날 울리지마\\nCall me Tell me hold me\\n아니라고\\nCall me Tell me hold me\\n가면안돼\\nGimme a call Baby Baby\\n다시 나를 찾아줘\\nGimme a call Baby Baby\\n할말이 있는 걸\\n너를 사랑해 너무 사랑해\\n너를 향해 소리쳐\\n널 기다릴게\\nCall me Tell me hold me\\n아니라고\\nCall me Tell me hold me\\n돌아와줘\\n펼치기',\n",
       " '아아 아 아 아\\n그녀는 너무 지적이야\\n그녀는 너무 매력있고\\n그녀는 나를 병들게 해\\n너무 너무 좋아 죽겠어\\n나는 매일 학교가는 버스 안에서\\n항상 같은 자리 앉아있는\\n그녈 보곤 해\\n하지만 부담스럽게 너무\\n도도해보여\\n어떤 말도 붙일 자신이 없어\\n아니야 난 괜찮아 그런 부담 갖지 마\\n어차피 지금 나도 남자친구\\n하나 없는데\\n하지만 너는 왜 아무말도 없을까\\n너에겐 내가 정말\\n필요하다는 걸 알아\\n넌 너무 이상적이야\\n니 눈빛만 보고\\n네게 먼저 말 걸어줄\\n그런 여자는 없어\\n나도 마찬가지야 이렇게\\n나도 매일 학교가는 버스 안에서\\n항상 같은 자리 앉아있는\\n그앨 좋아해\\n일부러 그녀의 곁에\\n서보기도 하지만\\n왠지 내가 너무 부족해보여\\n아니야 난 괜찮아 그런 부담\\n갖지 마\\n어차피 지금 나도 남자친구\\n하나 없는데\\n하지만 너는 왜 아무말도 없을까\\n너에겐 내가 정말\\n필요하다는 걸 알아\\n넌 너무 이상적이야\\n니 눈빛만 보고\\n네게 먼저 말 걸어줄\\n그런 여자는 없어\\n나도 마찬가지야 이렇게\\n그렇게 쉬운 일도 망설이는\\n한심한 네 모습 정말\\n무지무지 답답해\\n넌 너무 이상적이야\\n니 눈빛만 보고\\n네게 먼저 말 걸어줄\\n그런 여자는 없어\\n나도 마찬가지야 이렇게\\n펼치기',\n",
       " '널 향한 설레임을\\n오늘부터 우리는\\n꿈꾸며 기도하는\\n오늘부터 우리는\\n저 바람에 노을 빛\\n내 맘을 실어 보낼게\\n그리운 마음이 모여서 내리는\\nMe gustas tu gustas tu\\nsu tu tu ru 좋아해요\\ngustas tu su tu ru ru\\n한 발짝 뒤에 섰던 우리는\\n언제쯤 센치해 질까요\\n서로 부끄러워서\\n아무 말도 못하는 너에게로\\n다가가고 싶은데\\n바람에 나풀거리는 꽃잎처럼\\n미래는 알 수가 없잖아\\n이제는 용기 내서 고백할게요\\n하나보단 둘이서\\n서로를 느껴 봐요\\n내 마음 모아서\\n너에게 전하고 싶어\\n설레임을 오늘부터 우리는\\n꿈꾸며 기도하는\\n오늘부터 우리는\\n저 바람에 노을 빛\\n내 맘을 실어 보낼게\\n그리운 마음이 모여서 내리는\\nMe gustas tu gustas tu\\nsu tu tu ru 좋아해요\\ngustas tu su tu ru ru\\n한 걸음 앞에 서서\\n두 손을 놓지 말기로 약속해요\\n소중해질 기억을\\n꼭 꼭 담아 둘게요\\n지금보다 더 아껴 주세요\\n달빛에 아른거리는 구름처럼\\n아쉬운 시간만 가는데\\n이제는 용기 내서 고백할게요\\n둘 보단 하나 되어\\n서로를 느껴 봐요\\n내 마음 모아서\\n너에게 전하고 싶어\\n설레임을 오늘부터 우리는\\n꿈꾸며 기도하는\\n오늘부터 우리는\\n저 바람에 노을 빛\\n내 맘을 실어 보낼게\\n그리운 마음이 모여서 내리는\\n감싸 줄게요 그대\\n언제까지나\\n언제까지나\\n사랑이란 말 안 해도\\n느낄 수 있어요\\n고마운 마음을 모아서\\n널 향한 설레임을\\n오늘부터 우리는\\n꿈꾸며 기도하는\\n오늘부터 우리는\\n저 바람에 노을 빛\\n내 맘을 실어 보낼게\\n그리운 마음이 모여서 내리는\\nMe gustas tu gustas tu\\nsu tu tu ru 좋아해요\\ngustas tu su tu ru ru\\n펼치기',\n",
       " \"Yes Big bang is back\\nMost definitely hey move\\nB to the I to the G\\nB to the I to the G\\nB to the I to the G\\nAbout love\\nI don't wanna be with out you girl\\n마지막 인사는 접어두길 바래\\n오늘 단 하루만큼은\\nI don't wanna be with out you girl\\n내 서툰 마음 까지 안고 가줘\\nI love you I need you girl\\nBaby baby baby\\n조금 어색하지만 서로\\nBaby baby baby\\n아직 사랑하고 있는데\\nBaby baby baby\\n두렵기는 하지만서도\\n끝이 보이지만 난 그래도\\nonly you girl\\n상처만 가득히 모질게 날 대하던 너\\n어르고 달래 또 반복돼 널 피하던 나\\n어디서부터 어긋났을까\\n기나긴 고민 해답 없는\\n문제 속에 헤메여 난\\n미로 미로 속에 갇힌 길 잃은 방랑자\\n마냥 이도저도 못해 난 마냥\\n기다리기만 할 뿐 사뿐\\n사뿐히 내게 다가와주길 girl\\n우리 처음 만난 때 처럼\\n풋풋하던 그때 처럼\\n이런 이런 이런 저런 저런 저런\\n너와 내 사이의 끈 절대 놓지 말어\\nI don't wanna be with out you girl\\n마지막 인사는 접어두길 바래\\n오늘 단 하루만큼은\\nI don't wanna be with out you girl\\n내 서툰 마음 까지 안고 가줘\\nI love you I need you girl\\nBaby baby baby\\n조금 어색하지만 서로\\nBaby baby baby\\n아직 사랑하고 있는데\\nBaby baby baby\\n두렵기는 하지만서도\\n끝이 보이지만 난 그래도\\nonly you girl\\n아무런 말 없이 떠나 연락 없고\\n아무 말 않고\\n그러다 어느날 갑자기 나타나고\\n무슨 일 있었냔 듯\\n날 갖고 노는 건지\\n이게 사랑이 맞는 건지\\n하루에도 열두번 더 헷갈리고\\nabout love\\n한 두 번 갖고 놀던 장난감\\n넌 뭘 원했냐고 되물어봤어\\n달콤함은 아주 잠깐\\n우린 너무 쉽게 녹아버린 솜사탕\\n지친 가슴 이젠 나도\\n막지 못 할 것만 같아\\n어서 날 잡아줘 떠나가기 전에\\nI don't wanna be with out you girl\\n마지막 인사는 접어두길 바래\\n오늘 단 하루만큼은\\nI don't wanna be with out you girl\\n내 서툰 마음 까지 안고 가줘\\nI love you I need you girl\\nBaby baby baby\\n조금 어색하지만 서로\\nBaby baby baby\\n아직 사랑하고 있는데\\nBaby baby baby\\n두렵기는 하지만서도\\n끝이 보이지만 난 그래도\\nonly you girl\\n여전히 널 사랑하지만\\n내게는 너무나 소중하지만 ye\\n누구도 네 자릴 메꿀 수 없는 걸\\nI know you know\\n그냥 조용히 날 안아줘\\nI don't wanna be with out you girl\\n마지막 인사는 접어두길 바래\\n오늘 단 하루만큼은\\nI don't wanna be with out you girl\\n내 서툰 마음 까지 안고 가줘\\nI love you I need you girl\\n\\nBaby baby baby\\n조금 어색하지만 서로\\nBaby baby baby\\n아직 사랑하고 있는데\\nBaby baby baby\\n두렵기는 하지만서도\\n끝이 보이지만 난 그래도\\nonly you girl\\nB to the I to the G\\nB to the I to the G\\nB to the I to the G\\nCome on come on come on\\nB to the I to the G\\nB to the I to the G\\n끝이 보이지만 난 그래도\\nOnly you girl\\nAbout love\\n\\n\\n펼치기\",\n",
       " \"Can't stop we won't stop\\nCan't stop we won't stop\\nye U know we don't stop\\nI just want you back\\n좋은 사람 너는 내게 첫사랑\\n사랑을 가르쳐준 사람\\nNever forget you\\nI remember you\\n기억해 너 하나만\\nUh 혹시나 너를 볼까\\n니가 사준 옷을 입고\\n니가 좋아하던\\n짧은 머리를 하고\\n너와 함께 걷던\\n그 길을 지나가기 위해서\\n굳이 먼길을 돌았어\\n혹시 니가 있을까봐\\n전화번호도 아직 그대로\\n혹시 나를 찾아올까봐\\n집도 그대로\\n내 미니홈피 속엔 너와\\n듣던 노래뿐\\n혹시 니가 볼까봐\\n다시 돌아올까봐\\n우리는 아직 잊지 못했는데\\n우리는 아직 서롤 원하는데\\n우린 아직 사랑하는데 엇갈려\\n사실은 보고 싶은데\\n미치도록 너를 보고 싶은데\\n한없이 널 기다려\\n결국 너를 기다려\\n혹시하고 멈춰서\\n제자리를 맴도네\\n좋은 사람 너는 내게 첫사랑\\n사랑을 가르쳐준 사람\\nNever forget you I remember you\\n기억해 너 하나만\\n혹시나 너를 볼까봐\\n보게되면 흔들릴까봐\\n내 맘이 약해 질까봐\\n말라비튼 날 보일까봐\\n너와 함께 걷던\\n그 길을 피하기 위해서\\n굳이 먼길을 돌았어\\n혹시 니가 있을까봐\\n전화번호도 이미 바꿨어\\n혹시 니 생각이 날까 집도 옮겼어\\n하지만 입에선 아직 못한 말이 새\\n혹시 너를 볼까봐\\n다시 돌아올까봐\\n우리는 아직 잊지 못했는데\\n우리는 아직 서롤 원하는데\\n우린 아직 사랑하는데\\n엇갈려\\n사실은 보고 싶은데\\n미치도록 너를 보고 싶은데\\n한없이 널 기다려\\n결국 너를 기다려\\n혹시하고 멈춰서\\n제자리를 맴도네\\n좋은 사람 너는 내게 첫사랑\\n사랑을 가르쳐준 사람\\nNever forget you I remember you\\n기억해 너 하나만\\n다시 시작해 말하고 싶지만\\n들리지도 또 보이지 않는\\n너를 찾고 있어 Uh\\n쏟아지는 장대비를 맞은 채\\n우리 처음 만난 그 곳으로 가는\\n내 자신이 너무나도 한심해\\n당신의 따스했던 자리\\n아직 가슴에\\n넌 더 견딜 수 있니\\n그럼 나도 조금 더 견딜테니\\n하지만 힘이 좀 들거야\\n너무 사랑했잖아\\n참으려 애를 써봤어도\\n어쩔수 없어\\n혹시라도 우연히 널 볼까봐\\n그대가 내 모습 볼까봐\\n거울을 보며 눈물을 닦죠\\n혹시나 너 올까봐\\n좋은 사람 너는 내게 첫사랑\\n사랑을 가르쳐준 사람\\nNever forget you I remember you\\n기억해 너 하나만\\n펼치기\",\n",
       " \"순정\\n\\n(純情)워워워 워워워\\n워워워워워워워\\n워워워 워워워\\n워워워워워워워\\n나를 포기했어 너만\\n사랑했어\\n그것만으로도 부족했었나\\n바보 같은 내게 내게\\n이럴 수 있어\\n영원히 함께 있자고\\n죽어도 같이 죽자고\\n눈물로써 맹세했는데\\n다 필요 없어\\n너의 행복 찾아 나를 떠난다면\\n이제 와서 나는 어떡하라고\\n다시 생각해봐 내게\\n이러면 안돼\\n너 없인 살 수가없어\\n제발 날 도와 달라고\\n애원하며 붙잡고싶어\\n워워워 워워워\\n워워워워워워워\\n워워워 워워워\\n워워워워워워워\\n어느날 갑자기 슬픈\\n내게로 다가와\\n사랑만 주고서 멀리\\n떠나가 버린 너\\nget down and find yo cutie\\njump around and shake\\nyo booty\\n이해 못해 너의 그런 의미\\nwhy me 진정 나를 사랑했니\\nheart breakin love rackin\\n너에게 모든 걸 맡긴 now\\nyou packin\\n왜 착한 나를 자꾸 울려\\ndon't wanna let's you go\\n사랑하면 뭐해 정은 줘서 뭐해\\n순정 받쳐 고작 눈물뿐인데\\n사랑한게 죄야 너를\\n원망 않겠어\\n나 떠나 행복하기를 간절히\\n기도할께요\\n단 내 사랑은 잊지 말아줘\\n워워워 워워워\\n워워워워워워워\\n워워워 워워워\\n워워워워워워워\\n어느날 갑자기 슬픈\\n내게로 다가와\\n사랑만 주고서 멀리\\n떠나가 버린 너\\n펼치기\",\n",
       " \"난 너를 사랑해\\nLet's go\\nYes sir\\nWe're back again with 이문세\\nThat's right\\nFresh celebration 2008\\nIt's bigbang\\nye ye bust it\\n그댄 아시나요 있잖아요\\n지금 그대가 너무 그리워요\\n고개 숙여 눈물 훔쳐요\\n당신의 이름을 불러요\\n꼭 이렇게 날 남겨두고\\n떠나가야만 했는지\\n너만 생각하면 머리 아퍼\\n독하디 독한 술 같어\\n술 뿐이겠어 병이지\\n매일 앓아누워 몇 번인지\\n내일이면 또 잠깐 잊었다가 또\\n모레쯤이면 생각나겠지만\\n그래도 어떡해\\n아직 내 사랑 유효한데\\n돌아올 거라고 믿는데\\n난 너만 기다리는데\\n난 너를 사랑해\\nOh I love you girl\\n이 세상은 너 뿐이야\\n소리쳐 부르지만\\n저 대답 없는 노을만 붉게 타는데\\n혹시 그대가 미안해한다면\\n내 얼굴 보기 두렵다면\\nGirl 그런 걱정 하덜덜덜 마\\n너라면 힘이 펄펄펄 나\\n보고 싶은 그대 얼굴\\n저 붉은 노을을 닮아\\n더 슬퍼지는 걸\\nOh baby baby\\n다 지나간 시간\\n우리가 함께한 추억\\n잊진 말아줘요 눈을 감아\\n소리 없이 날 불러준다면\\n언제라도 달려 갈께요\\nEveryday everynight\\nI need you\\n난 너를 사랑해\\nOh I love you girl\\n이 세상은 너 뿐이야\\n소리쳐 부르지만\\n저 대답 없는 노을만 붉게 타는데\\n아름다웠던 그대 모습을\\n이젠 볼 순 없겠지만\\n후횐 없어 그저 바라볼 수 있게\\n붉게 타주오\\nAh Ah Ah Ah Ah Ah Ah Ah\\nLet's go\\nAh Ah Ah Ah Ah Ah Ah Ah\\n해가 뜨고 해가 지네\\n노을 빛에 슬퍼지네\\n달이 뜨고 달이 지네\\n세월 속에 나 또한 무뎌지네\\n해가 뜨고 해가 지네\\n노을 빛에 슬퍼지네\\n달이 뜨고 달이 지네\\n그대 기억 또한 무뎌지네\\n난 너를 사랑해\\nOh I love you girl\\n이 세상은 너 뿐이야\\n소리쳐 부르지만\\n저 대답 없는 노을만 붉게 타는데\\n난 너를 사랑해\\nI love you girl\\n이 세상은 너 뿐이야\\n소리쳐 부르지만\\n저 대답 없는 노을만 붉게 타는데\\nOnce again\\nAh Ah Ah Ah Ah Ah Ah Ah\\nLet's go\\nAh Ah Ah Ah Ah Ah Ah Ah\\nbig bang\\n\\n\\n펼치기\",\n",
       " \"Touch my body Body\\nTouch my body Body\\nTouch my body Body\\nTouch my body\\nI know you want it\\n넌 내 곁으로 와\\n내가 준비한 wine 달콤한\\nchocolate chocolate\\n좀 부드럽고 때론 뜨거워지는\\n너만을 위한 my pool\\nna na na na na na\\n빨개진 너의 두 눈에\\n비친 내 모습\\n운전은 니가 해 그저\\n내 두 손은 하늘위로\\nYeh baby dancing with me\\nyou're my star\\nTouch my body\\n우린 조금씩 빠르게\\nOh everybody\\n푸른 하늘 보다 높이\\n지금 이 리듬이 좋아\\n뜨거운 태양아래 너와나\\nMy body body Touch ma body\\nBaby so good\\n지금 기분은 paradise\\nBaby so nice\\n우리 둘만의\\nsummer night\\n조금씩 one step two step\\n달빛 아래 너와나\\nMy body body Touch ma body\\nTouch my body Body\\nTouch my body Body\\nTouch my body Body\\nTouch my body\\n하나 둘씩 밝혀지는\\n니 맘 속안에 촛불\\n힘이 들 땐 조금 쉬었다가요\\n여기 red pool\\n내 입술이 좋아 아님\\n내 body가 좋아\\n솔직히 말해 여기 여기\\n여기 아님 저기 저기 저기\\n나밖에 없다고 지금 내게 말해줘\\n부끄럽게 자꾸 보지 말고\\n계속 날 안아줘\\n날 사랑한다 말해줘\\nTouch my body\\n우린 조금씩 빠르게\\nOh everybody\\n푸른 하늘 보다 높이\\n지금 이 리듬이 좋아\\n뜨거운 태양아래 너와나\\nMy body body Touch ma body\\nBaby so good\\n지금 기분은 paradise\\nBaby so nice\\n우리 둘만의\\nsummer night\\n조금씩 one step two step\\n달빛 아래 너와나\\nMy body body Touch ma body\\nTouch ma body My body My body\\nMy body My body\\n너와 함께 있는 지금 Tonight\\n둘이 함께 보는 저 별들\\n어느 누구보다 행복해\\n너와 함께 있는 지금 Tonight\\n둘이 함께 보는 저 별들\\n어느 누구보다 행복해\\nTouch ma body\\n펼치기\"]"
      ]
     },
     "execution_count": 28,
     "metadata": {},
     "output_type": "execute_result"
    }
   ],
   "source": [
    "song_text"
   ]
  },
  {
   "cell_type": "code",
   "execution_count": 19,
   "id": "b6488037-7ddd-46d4-a021-dd8a3c3516c5",
   "metadata": {},
   "outputs": [
    {
     "data": {
      "text/plain": [
       "('미리 메리 크리스마스 (Feat. 천둥 Of MBLAQ)',\n",
       " '아이유',\n",
       " \"하얀 눈이 내려올 때면\\n온 세상이 물들을 때면\\n눈꽃이 피어나 또 빛이 나\\n눈이 부신 너처럼\\nYeah girl\\nyou should know that\\nThat my heartbeats like\\nHuh Huh Huh Huh\\nFrom the bottom of my heart\\nI thank god I found you\\n쿵쿵 가슴이 왜 이렇게 가쁘니 yeah\\n꾹꾹 참아도\\n자꾸 네 생각이 나잖아 oh\\nYou You I love you\\nand I know you love me too\\n네가 내게 불러 준\\nYou're my boo\\nYou 아직 꿈만 같아\\nAnd you 마치 선물 같아\\nFor you 네 품에 안겨도\\n늘 불안불안 해 꿈처럼 깰까 봐\\nYou 꼭 안아 줘야만 해\\nAnd you 아껴 줘야만 해\\nFor you 큰 맘 먹고 네 꺼 돼준 걸\\n하늘에게 감사해\\n하얀 눈이 내려올 때면\\n온 세상이 물들을 때면\\n눈꽃이 피어나 또 빛이 나\\n눈이 부신 너처럼\\n사랑할 수 밖에 없어서\\n사랑한 네 손 잡고서\\n첫 눈 위를 걸어 발자국을 새겨\\n이 길 끝까지 걸어 갈 거야\\nWith you\\nYou 혹시 알고 있니\\nAnd you 느낄 수가 있니\\nFor you 늘 자랑하고픈\\n네 여자친구가 되고만 싶은 걸\\nYou 전부 다 주고 싶어\\nAnd you 잘 해주고 싶어\\nFor you 다음 그 다음 해 겨울도\\n너의 곁에 있을게\\n하얀 눈이 내려올 때면\\n온 세상이 물들을 때면\\n눈꽃이 피어나 또 빛이 나\\n눈이 부신 너처럼\\n사랑할 수 밖에 없어서\\n사랑한 네 손 잡고서\\n첫 눈 위를 걸어 발자국을 새겨\\n이 길 끝까지 걸어 갈 거야\\nWith you\\n매일 매일 너 때문에 행복해\\n다른 누구 아닌 나를\\n모두 가질 너만이 My love\\n나도 믿기지 않아\\n지금 네가 내 옆에\\n이렇게 손 꼭 잡은 채 걷는다는 게\\n하얀 눈보다 더 뽀얀 네 볼에\\n키스해줄게 Baby\\n빨갛게 물들게 Baby\\n다가오는 크리스마스에는\\n기다리는 그 날만큼은\\n네 곁에 있을래\\n하루 종일 미리 미리 약속해\\n사랑할 수 밖에 없어서\\n사랑한 네 손 잡고서\\n첫 눈 위를 걸어 발자국을 새겨\\n이 길 끝까지 걸어 갈 거야\\nWith you\\nGirl you know\\nI can't even think without you\\nin my life\\nYeah Yeah I know that you know\\nThat's my baby\\n펼치기\",\n",
       " 'https://cdnimg.melon.co.kr/cm/album/images/010/93/562/1093562_500.jpg/melon/resize/120/quality/80/optimize',\n",
       " '173,113')"
      ]
     },
     "execution_count": 19,
     "metadata": {},
     "output_type": "execute_result"
    }
   ],
   "source": [
    "song_list[0]"
   ]
  },
  {
   "cell_type": "code",
   "execution_count": 20,
   "id": "ebd19b6f-c4fd-4a20-a845-0c4a3e1cce55",
   "metadata": {},
   "outputs": [
    {
     "ename": "ValueError",
     "evalue": "All arrays must be of the same length",
     "output_type": "error",
     "traceback": [
      "\u001b[0;31m---------------------------------------------------------------------------\u001b[0m",
      "\u001b[0;31mValueError\u001b[0m                                Traceback (most recent call last)",
      "Cell \u001b[0;32mIn[20], line 1\u001b[0m\n\u001b[0;32m----> 1\u001b[0m df \u001b[38;5;241m=\u001b[39m \u001b[43mpd\u001b[49m\u001b[38;5;241;43m.\u001b[39;49m\u001b[43mDataFrame\u001b[49m\u001b[43m(\u001b[49m\n\u001b[1;32m      2\u001b[0m \u001b[43m    \u001b[49m\u001b[43m{\u001b[49m\n\u001b[1;32m      3\u001b[0m \u001b[43m        \u001b[49m\u001b[38;5;124;43m\"\u001b[39;49m\u001b[38;5;124;43mtitle\u001b[39;49m\u001b[38;5;124;43m\"\u001b[39;49m\u001b[43m \u001b[49m\u001b[43m:\u001b[49m\u001b[43mtitle\u001b[49m\u001b[43m,\u001b[49m\n\u001b[1;32m      4\u001b[0m \u001b[43m        \u001b[49m\u001b[38;5;124;43m\"\u001b[39;49m\u001b[38;5;124;43msinger\u001b[39;49m\u001b[38;5;124;43m\"\u001b[39;49m\u001b[43m \u001b[49m\u001b[43m:\u001b[49m\u001b[43msinger\u001b[49m\u001b[43m,\u001b[49m\u001b[43m \u001b[49m\n\u001b[1;32m      5\u001b[0m \u001b[43m        \u001b[49m\u001b[38;5;124;43m\"\u001b[39;49m\u001b[38;5;124;43msong_text\u001b[39;49m\u001b[38;5;124;43m\"\u001b[39;49m\u001b[43m:\u001b[49m\u001b[43m \u001b[49m\u001b[43msong_text\u001b[49m\u001b[43m,\u001b[49m\n\u001b[1;32m      6\u001b[0m \u001b[43m        \u001b[49m\u001b[38;5;124;43m\"\u001b[39;49m\u001b[38;5;124;43mimg\u001b[39;49m\u001b[38;5;124;43m\"\u001b[39;49m\u001b[43m:\u001b[49m\u001b[43m \u001b[49m\u001b[43mimg\u001b[49m\u001b[43m,\u001b[49m\n\u001b[1;32m      7\u001b[0m \u001b[43m        \u001b[49m\u001b[38;5;124;43m\"\u001b[39;49m\u001b[38;5;124;43mlike\u001b[39;49m\u001b[38;5;124;43m\"\u001b[39;49m\u001b[43m \u001b[49m\u001b[43m:\u001b[49m\u001b[43m \u001b[49m\u001b[43mlike\u001b[49m\n\u001b[1;32m      8\u001b[0m \u001b[43m    \u001b[49m\u001b[43m}\u001b[49m\n\u001b[1;32m      9\u001b[0m \u001b[43m)\u001b[49m\n\u001b[1;32m     10\u001b[0m df\n",
      "File \u001b[0;32m~/anaconda3/envs/torch/lib/python3.10/site-packages/pandas/core/frame.py:736\u001b[0m, in \u001b[0;36mDataFrame.__init__\u001b[0;34m(self, data, index, columns, dtype, copy)\u001b[0m\n\u001b[1;32m    730\u001b[0m     mgr \u001b[38;5;241m=\u001b[39m \u001b[38;5;28mself\u001b[39m\u001b[38;5;241m.\u001b[39m_init_mgr(\n\u001b[1;32m    731\u001b[0m         data, axes\u001b[38;5;241m=\u001b[39m{\u001b[38;5;124m\"\u001b[39m\u001b[38;5;124mindex\u001b[39m\u001b[38;5;124m\"\u001b[39m: index, \u001b[38;5;124m\"\u001b[39m\u001b[38;5;124mcolumns\u001b[39m\u001b[38;5;124m\"\u001b[39m: columns}, dtype\u001b[38;5;241m=\u001b[39mdtype, copy\u001b[38;5;241m=\u001b[39mcopy\n\u001b[1;32m    732\u001b[0m     )\n\u001b[1;32m    734\u001b[0m \u001b[38;5;28;01melif\u001b[39;00m \u001b[38;5;28misinstance\u001b[39m(data, \u001b[38;5;28mdict\u001b[39m):\n\u001b[1;32m    735\u001b[0m     \u001b[38;5;66;03m# GH#38939 de facto copy defaults to False only in non-dict cases\u001b[39;00m\n\u001b[0;32m--> 736\u001b[0m     mgr \u001b[38;5;241m=\u001b[39m \u001b[43mdict_to_mgr\u001b[49m\u001b[43m(\u001b[49m\u001b[43mdata\u001b[49m\u001b[43m,\u001b[49m\u001b[43m \u001b[49m\u001b[43mindex\u001b[49m\u001b[43m,\u001b[49m\u001b[43m \u001b[49m\u001b[43mcolumns\u001b[49m\u001b[43m,\u001b[49m\u001b[43m \u001b[49m\u001b[43mdtype\u001b[49m\u001b[38;5;241;43m=\u001b[39;49m\u001b[43mdtype\u001b[49m\u001b[43m,\u001b[49m\u001b[43m \u001b[49m\u001b[43mcopy\u001b[49m\u001b[38;5;241;43m=\u001b[39;49m\u001b[43mcopy\u001b[49m\u001b[43m,\u001b[49m\u001b[43m \u001b[49m\u001b[43mtyp\u001b[49m\u001b[38;5;241;43m=\u001b[39;49m\u001b[43mmanager\u001b[49m\u001b[43m)\u001b[49m\n\u001b[1;32m    737\u001b[0m \u001b[38;5;28;01melif\u001b[39;00m \u001b[38;5;28misinstance\u001b[39m(data, ma\u001b[38;5;241m.\u001b[39mMaskedArray):\n\u001b[1;32m    738\u001b[0m     \u001b[38;5;28;01mfrom\u001b[39;00m \u001b[38;5;21;01mnumpy\u001b[39;00m\u001b[38;5;21;01m.\u001b[39;00m\u001b[38;5;21;01mma\u001b[39;00m \u001b[38;5;28;01mimport\u001b[39;00m mrecords\n",
      "File \u001b[0;32m~/anaconda3/envs/torch/lib/python3.10/site-packages/pandas/core/internals/construction.py:503\u001b[0m, in \u001b[0;36mdict_to_mgr\u001b[0;34m(data, index, columns, dtype, typ, copy)\u001b[0m\n\u001b[1;32m    499\u001b[0m     \u001b[38;5;28;01melse\u001b[39;00m:\n\u001b[1;32m    500\u001b[0m         \u001b[38;5;66;03m# dtype check to exclude e.g. range objects, scalars\u001b[39;00m\n\u001b[1;32m    501\u001b[0m         arrays \u001b[38;5;241m=\u001b[39m [x\u001b[38;5;241m.\u001b[39mcopy() \u001b[38;5;28;01mif\u001b[39;00m \u001b[38;5;28mhasattr\u001b[39m(x, \u001b[38;5;124m\"\u001b[39m\u001b[38;5;124mdtype\u001b[39m\u001b[38;5;124m\"\u001b[39m) \u001b[38;5;28;01melse\u001b[39;00m x \u001b[38;5;28;01mfor\u001b[39;00m x \u001b[38;5;129;01min\u001b[39;00m arrays]\n\u001b[0;32m--> 503\u001b[0m \u001b[38;5;28;01mreturn\u001b[39;00m \u001b[43marrays_to_mgr\u001b[49m\u001b[43m(\u001b[49m\u001b[43marrays\u001b[49m\u001b[43m,\u001b[49m\u001b[43m \u001b[49m\u001b[43mcolumns\u001b[49m\u001b[43m,\u001b[49m\u001b[43m \u001b[49m\u001b[43mindex\u001b[49m\u001b[43m,\u001b[49m\u001b[43m \u001b[49m\u001b[43mdtype\u001b[49m\u001b[38;5;241;43m=\u001b[39;49m\u001b[43mdtype\u001b[49m\u001b[43m,\u001b[49m\u001b[43m \u001b[49m\u001b[43mtyp\u001b[49m\u001b[38;5;241;43m=\u001b[39;49m\u001b[43mtyp\u001b[49m\u001b[43m,\u001b[49m\u001b[43m \u001b[49m\u001b[43mconsolidate\u001b[49m\u001b[38;5;241;43m=\u001b[39;49m\u001b[43mcopy\u001b[49m\u001b[43m)\u001b[49m\n",
      "File \u001b[0;32m~/anaconda3/envs/torch/lib/python3.10/site-packages/pandas/core/internals/construction.py:114\u001b[0m, in \u001b[0;36marrays_to_mgr\u001b[0;34m(arrays, columns, index, dtype, verify_integrity, typ, consolidate)\u001b[0m\n\u001b[1;32m    111\u001b[0m \u001b[38;5;28;01mif\u001b[39;00m verify_integrity:\n\u001b[1;32m    112\u001b[0m     \u001b[38;5;66;03m# figure out the index, if necessary\u001b[39;00m\n\u001b[1;32m    113\u001b[0m     \u001b[38;5;28;01mif\u001b[39;00m index \u001b[38;5;129;01mis\u001b[39;00m \u001b[38;5;28;01mNone\u001b[39;00m:\n\u001b[0;32m--> 114\u001b[0m         index \u001b[38;5;241m=\u001b[39m \u001b[43m_extract_index\u001b[49m\u001b[43m(\u001b[49m\u001b[43marrays\u001b[49m\u001b[43m)\u001b[49m\n\u001b[1;32m    115\u001b[0m     \u001b[38;5;28;01melse\u001b[39;00m:\n\u001b[1;32m    116\u001b[0m         index \u001b[38;5;241m=\u001b[39m ensure_index(index)\n",
      "File \u001b[0;32m~/anaconda3/envs/torch/lib/python3.10/site-packages/pandas/core/internals/construction.py:677\u001b[0m, in \u001b[0;36m_extract_index\u001b[0;34m(data)\u001b[0m\n\u001b[1;32m    675\u001b[0m lengths \u001b[38;5;241m=\u001b[39m \u001b[38;5;28mlist\u001b[39m(\u001b[38;5;28mset\u001b[39m(raw_lengths))\n\u001b[1;32m    676\u001b[0m \u001b[38;5;28;01mif\u001b[39;00m \u001b[38;5;28mlen\u001b[39m(lengths) \u001b[38;5;241m>\u001b[39m \u001b[38;5;241m1\u001b[39m:\n\u001b[0;32m--> 677\u001b[0m     \u001b[38;5;28;01mraise\u001b[39;00m \u001b[38;5;167;01mValueError\u001b[39;00m(\u001b[38;5;124m\"\u001b[39m\u001b[38;5;124mAll arrays must be of the same length\u001b[39m\u001b[38;5;124m\"\u001b[39m)\n\u001b[1;32m    679\u001b[0m \u001b[38;5;28;01mif\u001b[39;00m have_dicts:\n\u001b[1;32m    680\u001b[0m     \u001b[38;5;28;01mraise\u001b[39;00m \u001b[38;5;167;01mValueError\u001b[39;00m(\n\u001b[1;32m    681\u001b[0m         \u001b[38;5;124m\"\u001b[39m\u001b[38;5;124mMixing dicts with non-Series may lead to ambiguous ordering.\u001b[39m\u001b[38;5;124m\"\u001b[39m\n\u001b[1;32m    682\u001b[0m     )\n",
      "\u001b[0;31mValueError\u001b[0m: All arrays must be of the same length"
     ]
    }
   ],
   "source": [
    "df = pd.DataFrame(\n",
    "    {\n",
    "        \"title\" :title,\n",
    "        \"singer\" :singer, \n",
    "        \"song_text\": song_text,\n",
    "        \"img\": img,\n",
    "        \"like\" : like\n",
    "    }\n",
    ")\n",
    "df"
   ]
  },
  {
   "cell_type": "code",
   "execution_count": 47,
   "id": "4f869583-eeaf-4d23-bdc6-42af5db29b68",
   "metadata": {},
   "outputs": [],
   "source": [
    "#df.csv() 파일로 저장하기\n",
    "df.to_csv('hippop_2.csv', index=False)"
   ]
  },
  {
   "cell_type": "code",
   "execution_count": 48,
   "id": "c4da58fe-b9ba-456a-935f-89c7db6e4084",
   "metadata": {},
   "outputs": [],
   "source": [
    "df1 = pd.read_csv('hippop.csv')\n",
    "df2 = pd.read_csv('hippop_2.csv')"
   ]
  },
  {
   "cell_type": "code",
   "execution_count": 49,
   "id": "89cbf6a8-79a7-4b34-98bf-c810866a037b",
   "metadata": {},
   "outputs": [],
   "source": [
    "# 두 데이터프레임을 합치기\n",
    "merged_df = pd.concat([df1, df2], ignore_index=True)\n",
    "\n",
    "# 합친 데이터프레임을 새로운 CSV 파일로 저장\n",
    "merged_df.to_csv('hippop_all.csv', index=False)"
   ]
  },
  {
   "cell_type": "code",
   "execution_count": 3,
   "id": "2ba147a5-0fe3-48c3-a546-7b10c9f41738",
   "metadata": {},
   "outputs": [],
   "source": [
    "df3 = pd.read_csv('hippop_all.csv')"
   ]
  },
  {
   "cell_type": "code",
   "execution_count": 4,
   "id": "fb106b38-03ce-4f55-8d07-77fc0573de77",
   "metadata": {},
   "outputs": [
    {
     "data": {
      "text/plain": [
       "(100, 5)"
      ]
     },
     "execution_count": 4,
     "metadata": {},
     "output_type": "execute_result"
    }
   ],
   "source": [
    "df3.shape"
   ]
  },
  {
   "cell_type": "code",
   "execution_count": null,
   "id": "0508264a-f79d-45a9-aee7-62c04f9879ec",
   "metadata": {},
   "outputs": [],
   "source": []
  }
 ],
 "metadata": {
  "kernelspec": {
   "display_name": "Python 3 (ipykernel)",
   "language": "python",
   "name": "python3"
  },
  "language_info": {
   "codemirror_mode": {
    "name": "ipython",
    "version": 3
   },
   "file_extension": ".py",
   "mimetype": "text/x-python",
   "name": "python",
   "nbconvert_exporter": "python",
   "pygments_lexer": "ipython3",
   "version": "3.10.13"
  }
 },
 "nbformat": 4,
 "nbformat_minor": 5
}
